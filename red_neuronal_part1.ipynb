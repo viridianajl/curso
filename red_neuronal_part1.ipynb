{
 "cells": [
  {
   "cell_type": "code",
   "execution_count": 1,
   "metadata": {},
   "outputs": [],
   "source": [
    "import tensorflow as tf\n",
    "import numpy as np"
   ]
  },
  {
   "cell_type": "code",
   "execution_count": 8,
   "metadata": {},
   "outputs": [],
   "source": [
    "aleatorio_a = np.random.uniform(0,50,(4,4))"
   ]
  },
  {
   "cell_type": "code",
   "execution_count": 9,
   "metadata": {},
   "outputs": [
    {
     "data": {
      "text/plain": [
       "array([[43.94576506,  9.35272975, 25.3841492 ,  4.4963801 ],\n",
       "       [ 3.78220297, 10.76072602, 28.31460526, 39.49254194],\n",
       "       [16.38584745, 32.54175437, 16.50632647, 14.84492632],\n",
       "       [21.96400603, 22.79808099, 46.008944  , 37.91240205]])"
      ]
     },
     "execution_count": 9,
     "metadata": {},
     "output_type": "execute_result"
    }
   ],
   "source": [
    "aleatorio_a"
   ]
  },
  {
   "cell_type": "code",
   "execution_count": 10,
   "metadata": {},
   "outputs": [],
   "source": [
    "aleatorio_b = np.random.uniform(0,50,(4,1))"
   ]
  },
  {
   "cell_type": "code",
   "execution_count": 12,
   "metadata": {},
   "outputs": [
    {
     "data": {
      "text/plain": [
       "array([[17.06464928],\n",
       "       [ 0.29493037],\n",
       "       [35.91627867],\n",
       "       [14.57637296]])"
      ]
     },
     "execution_count": 12,
     "metadata": {},
     "output_type": "execute_result"
    }
   ],
   "source": [
    "aleatorio_b"
   ]
  },
  {
   "cell_type": "code",
   "execution_count": 15,
   "metadata": {},
   "outputs": [],
   "source": [
    "a = tf.placeholder(tf.float32)\n",
    "b = tf.placeholder(tf.float32)"
   ]
  },
  {
   "cell_type": "code",
   "execution_count": 17,
   "metadata": {},
   "outputs": [],
   "source": [
    "suma = a + b\n",
    "multiplicacion = a * b"
   ]
  },
  {
   "cell_type": "code",
   "execution_count": 20,
   "metadata": {},
   "outputs": [
    {
     "name": "stdout",
     "output_type": "stream",
     "text": [
      "[[61.010414 26.41738  42.4488   21.56103 ]\n",
      " [ 4.077133 11.055656 28.609535 39.78747 ]\n",
      " [52.302124 68.45804  52.422607 50.761204]\n",
      " [36.54038  37.374454 60.58532  52.488777]]\n"
     ]
    }
   ],
   "source": [
    "with tf.Session() as sesion:\n",
    "    resultado_suma = sesion.run(suma,feed_dict={a:aleatorio_a, b:aleatorio_b})\n",
    "    print(resultado_suma)"
   ]
  },
  {
   "cell_type": "code",
   "execution_count": 21,
   "metadata": {},
   "outputs": [
    {
     "name": "stdout",
     "output_type": "stream",
     "text": [
      "[[61.010414 26.41738  42.4488   21.56103 ]\n",
      " [ 4.077133 11.055656 28.609535 39.78747 ]\n",
      " [52.302124 68.45804  52.422607 50.761204]\n",
      " [36.54038  37.374454 60.58532  52.488777]]\n"
     ]
    }
   ],
   "source": [
    "with tf.Session() as sesion:\n",
    "    resultado_multiplicacion = sesion.run(suma,feed_dict={a:aleatorio_a, b:aleatorio_b})\n",
    "    print(resultado_multiplicacion)"
   ]
  },
  {
   "cell_type": "code",
   "execution_count": 24,
   "metadata": {},
   "outputs": [],
   "source": [
    "caracteristicas = 10\n",
    "neuronas = 4"
   ]
  },
  {
   "cell_type": "code",
   "execution_count": 25,
   "metadata": {},
   "outputs": [],
   "source": [
    "x = tf.placeholder(tf.float32,(None, caracteristicas))"
   ]
  },
  {
   "cell_type": "code",
   "execution_count": 29,
   "metadata": {},
   "outputs": [],
   "source": [
    "w = tf.Variable(tf.random_normal([caracteristicas, neuronas]))"
   ]
  },
  {
   "cell_type": "code",
   "execution_count": 30,
   "metadata": {},
   "outputs": [],
   "source": [
    "b = tf.Variable(tf.ones([neuronas]))"
   ]
  },
  {
   "cell_type": "code",
   "execution_count": 31,
   "metadata": {},
   "outputs": [],
   "source": [
    "multiplicacion = tf.matmul(x,w)"
   ]
  },
  {
   "cell_type": "code",
   "execution_count": 32,
   "metadata": {},
   "outputs": [],
   "source": [
    "z = tf.add(multiplicacion,b)"
   ]
  },
  {
   "cell_type": "code",
   "execution_count": 33,
   "metadata": {},
   "outputs": [],
   "source": [
    "activacion = tf.sigmoid(z)"
   ]
  },
  {
   "cell_type": "code",
   "execution_count": 34,
   "metadata": {},
   "outputs": [],
   "source": [
    "inicializacion = tf.global_variables_initializer()"
   ]
  },
  {
   "cell_type": "code",
   "execution_count": 35,
   "metadata": {},
   "outputs": [],
   "source": [
    "valores_x = np.random.random([1,caracteristicas])"
   ]
  },
  {
   "cell_type": "code",
   "execution_count": 36,
   "metadata": {},
   "outputs": [
    {
     "data": {
      "text/plain": [
       "array([[0.88357897, 0.62954232, 0.56831121, 0.2853879 , 0.47223578,\n",
       "        0.27566017, 0.22901157, 0.33182313, 0.74637515, 0.45467952]])"
      ]
     },
     "execution_count": 36,
     "metadata": {},
     "output_type": "execute_result"
    }
   ],
   "source": [
    "valores_x"
   ]
  },
  {
   "cell_type": "code",
   "execution_count": 37,
   "metadata": {},
   "outputs": [],
   "source": [
    "with tf.Session() as sesion:\n",
    "    sesion.run(inicializacion)\n",
    "    resultado = sesion.run(activacion, feed_dict={x:valores_x})"
   ]
  },
  {
   "cell_type": "code",
   "execution_count": 39,
   "metadata": {},
   "outputs": [
    {
     "name": "stdout",
     "output_type": "stream",
     "text": [
      "[[0.8137641  0.36562943 0.8939692  0.92549324]]\n"
     ]
    }
   ],
   "source": [
    "print(resultado)"
   ]
  },
  {
   "cell_type": "code",
   "execution_count": null,
   "metadata": {},
   "outputs": [],
   "source": []
  }
 ],
 "metadata": {
  "kernelspec": {
   "display_name": "Python 3",
   "language": "python",
   "name": "python3"
  },
  "language_info": {
   "codemirror_mode": {
    "name": "ipython",
    "version": 3
   },
   "file_extension": ".py",
   "mimetype": "text/x-python",
   "name": "python",
   "nbconvert_exporter": "python",
   "pygments_lexer": "ipython3",
   "version": "3.5.6"
  }
 },
 "nbformat": 4,
 "nbformat_minor": 4
}
