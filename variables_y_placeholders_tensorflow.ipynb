{
 "cells": [
  {
   "cell_type": "code",
   "execution_count": 1,
   "metadata": {},
   "outputs": [],
   "source": [
    "import tensorflow as tf"
   ]
  },
  {
   "cell_type": "code",
   "execution_count": 2,
   "metadata": {},
   "outputs": [],
   "source": [
    "tensor = tf.random_uniform((5,5),0,1)"
   ]
  },
  {
   "cell_type": "code",
   "execution_count": 3,
   "metadata": {},
   "outputs": [],
   "source": [
    "variable = tf.Variable(initial_value = tensor)"
   ]
  },
  {
   "cell_type": "code",
   "execution_count": 4,
   "metadata": {},
   "outputs": [
    {
     "name": "stdout",
     "output_type": "stream",
     "text": [
      "<tf.Variable 'Variable:0' shape=(5, 5) dtype=float32_ref>\n"
     ]
    }
   ],
   "source": [
    "print(variable)"
   ]
  },
  {
   "cell_type": "code",
   "execution_count": 5,
   "metadata": {},
   "outputs": [],
   "source": [
    "inicializador = tf.global_variables_initializer()"
   ]
  },
  {
   "cell_type": "code",
   "execution_count": 8,
   "metadata": {},
   "outputs": [
    {
     "name": "stdout",
     "output_type": "stream",
     "text": [
      "[[0.89128256 0.3458612  0.99798834 0.45084524 0.00134206]\n",
      " [0.36125958 0.6307787  0.990031   0.46992576 0.9916574 ]\n",
      " [0.71180415 0.11349022 0.39826775 0.19032598 0.03253543]\n",
      " [0.95839775 0.8254175  0.45623648 0.47896564 0.7276063 ]\n",
      " [0.8021897  0.35865057 0.2283827  0.7293397  0.11711705]]\n"
     ]
    }
   ],
   "source": [
    "with tf.Session() as sesion:\n",
    "    sesion.run(inicializador)\n",
    "    print(sesion.run(variable))"
   ]
  },
  {
   "cell_type": "code",
   "execution_count": 7,
   "metadata": {},
   "outputs": [
    {
     "name": "stdout",
     "output_type": "stream",
     "text": [
      "[[0.781016   0.51130116 0.03420913 0.31184602 0.5556102 ]\n",
      " [0.6058203  0.48951745 0.5196012  0.996344   0.5739353 ]\n",
      " [0.41134286 0.0104084  0.28565812 0.48002446 0.18662715]\n",
      " [0.8076484  0.37232292 0.36250913 0.74854124 0.23912501]\n",
      " [0.72147334 0.03899837 0.48545527 0.32537508 0.64358795]]\n"
     ]
    }
   ],
   "source": [
    "print(resultado)"
   ]
  },
  {
   "cell_type": "code",
   "execution_count": 9,
   "metadata": {},
   "outputs": [],
   "source": [
    "incognitas = tf.placeholder(tf.float32, shape=(20,20))"
   ]
  },
  {
   "cell_type": "code",
   "execution_count": 10,
   "metadata": {},
   "outputs": [
    {
     "name": "stdout",
     "output_type": "stream",
     "text": [
      "Tensor(\"Placeholder:0\", shape=(20, 20), dtype=float32)\n"
     ]
    }
   ],
   "source": [
    "print(incognitas)"
   ]
  },
  {
   "cell_type": "code",
   "execution_count": null,
   "metadata": {},
   "outputs": [],
   "source": []
  }
 ],
 "metadata": {
  "kernelspec": {
   "display_name": "Python 3",
   "language": "python",
   "name": "python3"
  },
  "language_info": {
   "codemirror_mode": {
    "name": "ipython",
    "version": 3
   },
   "file_extension": ".py",
   "mimetype": "text/x-python",
   "name": "python",
   "nbconvert_exporter": "python",
   "pygments_lexer": "ipython3",
   "version": "3.5.6"
  }
 },
 "nbformat": 4,
 "nbformat_minor": 4
}
